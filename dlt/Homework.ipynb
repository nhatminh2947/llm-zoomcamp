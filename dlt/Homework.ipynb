{
 "cells": [
  {
   "cell_type": "code",
   "execution_count": 1,
   "id": "4e2572f3",
   "metadata": {
    "vscode": {
     "languageId": "plaintext"
    }
   },
   "outputs": [],
   "source": [
    "!pip install -q \"dlt[qdrant]\" \"qdrant-client[fastembed]\""
   ]
  },
  {
   "cell_type": "code",
   "execution_count": 10,
   "id": "8d130584-97b4-47cc-befa-7def6056d3fe",
   "metadata": {
    "scrolled": true
   },
   "outputs": [
    {
     "name": "stdout",
     "output_type": "stream",
     "text": [
      "Requirement already satisfied: dlt in /home/codespace/.python/current/lib/python3.12/site-packages (1.14.1)\n",
      "Requirement already satisfied: click>=7.1 in /home/codespace/.python/current/lib/python3.12/site-packages (from dlt) (8.2.1)\n",
      "Requirement already satisfied: fsspec>=2022.4.0 in /home/codespace/.local/lib/python3.12/site-packages (from dlt) (2024.6.1)\n",
      "Requirement already satisfied: gitpython>=3.1.29 in /home/codespace/.local/lib/python3.12/site-packages (from dlt) (3.1.44)\n",
      "Requirement already satisfied: giturlparse>=0.10.0 in /home/codespace/.python/current/lib/python3.12/site-packages (from dlt) (0.12.0)\n",
      "Requirement already satisfied: hexbytes>=0.2.2 in /home/codespace/.python/current/lib/python3.12/site-packages (from dlt) (1.3.1)\n",
      "Requirement already satisfied: humanize>=4.4.0 in /home/codespace/.python/current/lib/python3.12/site-packages (from dlt) (4.12.3)\n",
      "Requirement already satisfied: jsonpath-ng>=1.5.3 in /home/codespace/.python/current/lib/python3.12/site-packages (from dlt) (1.7.0)\n",
      "Requirement already satisfied: orjson!=3.10.1,!=3.9.11,!=3.9.12,!=3.9.13,!=3.9.14,<4,>=3.6.7 in /home/codespace/.python/current/lib/python3.12/site-packages (from dlt) (3.11.0)\n",
      "Requirement already satisfied: packaging>=21.1 in /home/codespace/.local/lib/python3.12/site-packages (from dlt) (24.2)\n",
      "Requirement already satisfied: pathvalidate>=2.5.2 in /home/codespace/.python/current/lib/python3.12/site-packages (from dlt) (3.3.1)\n",
      "Requirement already satisfied: pendulum>=2.1.2 in /home/codespace/.python/current/lib/python3.12/site-packages (from dlt) (3.1.0)\n",
      "Requirement already satisfied: pluggy>=1.3.0 in /home/codespace/.python/current/lib/python3.12/site-packages (from dlt) (1.6.0)\n",
      "Requirement already satisfied: pytz>=2022.6 in /home/codespace/.local/lib/python3.12/site-packages (from dlt) (2025.1)\n",
      "Requirement already satisfied: pyyaml>=5.4.1 in /home/codespace/.local/lib/python3.12/site-packages (from dlt) (6.0.2)\n",
      "Requirement already satisfied: requests>=2.26.0 in /home/codespace/.local/lib/python3.12/site-packages (from dlt) (2.32.3)\n",
      "Requirement already satisfied: requirements-parser>=0.5.0 in /home/codespace/.python/current/lib/python3.12/site-packages (from dlt) (0.13.0)\n",
      "Requirement already satisfied: rich-argparse>=1.6.0 in /home/codespace/.python/current/lib/python3.12/site-packages (from dlt) (1.7.1)\n",
      "Requirement already satisfied: semver>=3.0.0 in /home/codespace/.python/current/lib/python3.12/site-packages (from dlt) (3.0.4)\n",
      "Requirement already satisfied: setuptools>=65.6.0 in /home/codespace/.local/lib/python3.12/site-packages (from dlt) (76.0.0)\n",
      "Requirement already satisfied: simplejson>=3.17.5 in /home/codespace/.python/current/lib/python3.12/site-packages (from dlt) (3.20.1)\n",
      "Requirement already satisfied: sqlglot>=25.4.0 in /home/codespace/.python/current/lib/python3.12/site-packages (from dlt) (27.1.0)\n",
      "Requirement already satisfied: tenacity>=8.0.2 in /home/codespace/.python/current/lib/python3.12/site-packages (from dlt) (9.1.2)\n",
      "Requirement already satisfied: tomlkit>=0.11.3 in /home/codespace/.python/current/lib/python3.12/site-packages (from dlt) (0.13.3)\n",
      "Requirement already satisfied: typing-extensions>=4.8.0 in /home/codespace/.local/lib/python3.12/site-packages (from dlt) (4.12.2)\n",
      "Requirement already satisfied: tzdata>=2022.1 in /home/codespace/.local/lib/python3.12/site-packages (from dlt) (2025.1)\n",
      "Requirement already satisfied: gitdb<5,>=4.0.1 in /home/codespace/.local/lib/python3.12/site-packages (from gitpython>=3.1.29->dlt) (4.0.12)\n",
      "Requirement already satisfied: smmap<6,>=3.0.1 in /home/codespace/.local/lib/python3.12/site-packages (from gitdb<5,>=4.0.1->gitpython>=3.1.29->dlt) (5.0.2)\n",
      "Requirement already satisfied: ply in /home/codespace/.python/current/lib/python3.12/site-packages (from jsonpath-ng>=1.5.3->dlt) (3.11)\n",
      "Requirement already satisfied: python-dateutil>=2.6 in /home/codespace/.local/lib/python3.12/site-packages (from pendulum>=2.1.2->dlt) (2.9.0.post0)\n",
      "Requirement already satisfied: six>=1.5 in /home/codespace/.local/lib/python3.12/site-packages (from python-dateutil>=2.6->pendulum>=2.1.2->dlt) (1.17.0)\n",
      "Requirement already satisfied: charset-normalizer<4,>=2 in /home/codespace/.local/lib/python3.12/site-packages (from requests>=2.26.0->dlt) (3.4.1)\n",
      "Requirement already satisfied: idna<4,>=2.5 in /home/codespace/.local/lib/python3.12/site-packages (from requests>=2.26.0->dlt) (3.10)\n",
      "Requirement already satisfied: urllib3<3,>=1.21.1 in /home/codespace/.local/lib/python3.12/site-packages (from requests>=2.26.0->dlt) (2.3.0)\n",
      "Requirement already satisfied: certifi>=2017.4.17 in /home/codespace/.local/lib/python3.12/site-packages (from requests>=2.26.0->dlt) (2025.1.31)\n",
      "Requirement already satisfied: rich>=11.0.0 in /home/codespace/.python/current/lib/python3.12/site-packages (from rich-argparse>=1.6.0->dlt) (14.0.0)\n",
      "Requirement already satisfied: markdown-it-py>=2.2.0 in /home/codespace/.python/current/lib/python3.12/site-packages (from rich>=11.0.0->rich-argparse>=1.6.0->dlt) (3.0.0)\n",
      "Requirement already satisfied: pygments<3.0.0,>=2.13.0 in /home/codespace/.local/lib/python3.12/site-packages (from rich>=11.0.0->rich-argparse>=1.6.0->dlt) (2.19.1)\n",
      "Requirement already satisfied: mdurl~=0.1 in /home/codespace/.python/current/lib/python3.12/site-packages (from markdown-it-py>=2.2.0->rich>=11.0.0->rich-argparse>=1.6.0->dlt) (0.1.2)\n"
     ]
    }
   ],
   "source": [
    "!pip install --upgrade dlt"
   ]
  },
  {
   "cell_type": "code",
   "execution_count": 7,
   "id": "89a3beab-80c8-4ef6-89ed-21066f1e5c35",
   "metadata": {},
   "outputs": [
    {
     "name": "stdout",
     "output_type": "stream",
     "text": [
      "Requirement already satisfied: requests in /home/codespace/.local/lib/python3.12/site-packages (2.32.3)\n",
      "Requirement already satisfied: charset-normalizer<4,>=2 in /home/codespace/.local/lib/python3.12/site-packages (from requests) (3.4.1)\n",
      "Requirement already satisfied: idna<4,>=2.5 in /home/codespace/.local/lib/python3.12/site-packages (from requests) (3.10)\n",
      "Requirement already satisfied: urllib3<3,>=1.21.1 in /home/codespace/.local/lib/python3.12/site-packages (from requests) (2.3.0)\n",
      "Requirement already satisfied: certifi>=2017.4.17 in /home/codespace/.local/lib/python3.12/site-packages (from requests) (2025.1.31)\n"
     ]
    }
   ],
   "source": [
    "!pip install requests"
   ]
  },
  {
   "cell_type": "code",
   "execution_count": 11,
   "id": "ce558dde-c502-40b3-825e-2e53877bf4ed",
   "metadata": {},
   "outputs": [],
   "source": [
    "import dlt\n",
    "import requests"
   ]
  },
  {
   "cell_type": "code",
   "execution_count": 3,
   "id": "00bd0af5-c247-4a3b-bd7d-bdcd9de25087",
   "metadata": {},
   "outputs": [
    {
     "data": {
      "text/plain": [
       "'1.14.1'"
      ]
     },
     "execution_count": 3,
     "metadata": {},
     "output_type": "execute_result"
    }
   ],
   "source": [
    "dlt.__version__"
   ]
  },
  {
   "cell_type": "code",
   "execution_count": 12,
   "id": "7fcd2550",
   "metadata": {
    "vscode": {
     "languageId": "plaintext"
    }
   },
   "outputs": [],
   "source": [
    "@dlt.resource\n",
    "def zoomcamp_data():\n",
    "    docs_url = 'https://github.com/alexeygrigorev/llm-rag-workshop/raw/main/notebooks/documents.json'\n",
    "    docs_response = requests.get(docs_url)\n",
    "    documents_raw = docs_response.json()\n",
    "\n",
    "    for course in documents_raw:\n",
    "        course_name = course['course']\n",
    "\n",
    "        for doc in course['documents']:\n",
    "            doc['course'] = course_name\n",
    "            yield doc"
   ]
  },
  {
   "cell_type": "code",
   "execution_count": 13,
   "id": "ec0e70e9",
   "metadata": {
    "vscode": {
     "languageId": "plaintext"
    }
   },
   "outputs": [],
   "source": [
    "from dlt.destinations import qdrant\n",
    "\n",
    "qdrant_destination = qdrant(\n",
    "  qd_path=\"db.qdrant\", \n",
    ")"
   ]
  },
  {
   "cell_type": "code",
   "execution_count": 14,
   "id": "41f39bc6-497e-45e3-801a-45f9545651eb",
   "metadata": {},
   "outputs": [
    {
     "name": "stdout",
     "output_type": "stream",
     "text": [
      "Run started at 2025-07-20 13:55:33.180251+00:00 and COMPLETED in 9.21 seconds with 4 steps.\n",
      "Step extract COMPLETED in 0.80 seconds.\n",
      "\n",
      "Load package 1753019734.1562767 is EXTRACTED and NOT YET LOADED to the destination and contains no failed jobs\n",
      "\n",
      "Step normalize COMPLETED in 0.08 seconds.\n",
      "Normalized data for the following tables:\n",
      "- zoomcamp_data: 948 row(s)\n",
      "- _dlt_pipeline_state: 1 row(s)\n",
      "\n",
      "Load package 1753019734.1562767 is NORMALIZED and NOT YET LOADED to the destination and contains no failed jobs\n",
      "\n",
      "Step load COMPLETED in 7.36 seconds.\n",
      "Pipeline zoomcamp_pipeline load step completed in 7.35 seconds\n",
      "1 load package(s) were loaded to destination qdrant and into dataset zoomcamp_tagged_data\n",
      "The qdrant destination used /workspaces/llm-zoomcamp/dlt/db.qdrant location to store data\n",
      "Load package 1753019734.1562767 is LOADED and contains no failed jobs\n",
      "\n",
      "Step run COMPLETED in 9.21 seconds.\n",
      "Pipeline zoomcamp_pipeline load step completed in 7.35 seconds\n",
      "1 load package(s) were loaded to destination qdrant and into dataset zoomcamp_tagged_data\n",
      "The qdrant destination used /workspaces/llm-zoomcamp/dlt/db.qdrant location to store data\n",
      "Load package 1753019734.1562767 is LOADED and contains no failed jobs\n"
     ]
    }
   ],
   "source": [
    "pipeline = dlt.pipeline(\n",
    "    pipeline_name=\"zoomcamp_pipeline\",\n",
    "    destination=qdrant_destination,\n",
    "    dataset_name=\"zoomcamp_tagged_data\"\n",
    "\n",
    ")\n",
    "load_info = pipeline.run(zoomcamp_data())\n",
    "print(pipeline.last_trace)"
   ]
  },
  {
   "cell_type": "code",
   "execution_count": null,
   "id": "5b7cfad7-8021-4539-8c25-c338fa199b8b",
   "metadata": {},
   "outputs": [],
   "source": []
  }
 ],
 "metadata": {
  "kernelspec": {
   "display_name": "Python 3 (ipykernel)",
   "language": "python",
   "name": "python3"
  },
  "language_info": {
   "codemirror_mode": {
    "name": "ipython",
    "version": 3
   },
   "file_extension": ".py",
   "mimetype": "text/x-python",
   "name": "python",
   "nbconvert_exporter": "python",
   "pygments_lexer": "ipython3",
   "version": "3.12.1"
  }
 },
 "nbformat": 4,
 "nbformat_minor": 5
}
