{
 "cells": [
  {
   "cell_type": "code",
   "execution_count": 3,
   "id": "0dc81262-0135-493a-87f1-81a42646e33e",
   "metadata": {},
   "outputs": [],
   "source": [
    "import openai\n",
    "import os"
   ]
  },
  {
   "cell_type": "code",
   "execution_count": 2,
   "id": "a7b1d9c4-c8d5-4d11-8e41-68eed76b00f2",
   "metadata": {},
   "outputs": [],
   "source": [
    "from openai import OpenAI"
   ]
  },
  {
   "cell_type": "code",
   "execution_count": 6,
   "id": "f538a10a-4a02-43a7-b760-432be1f76399",
   "metadata": {},
   "outputs": [],
   "source": [
    "OPENAI_API_KEY = os.environ.get('OPENAI_API_KEY')\n",
    "client = OpenAI(api_key=OPENAI_API_KEY)"
   ]
  },
  {
   "cell_type": "code",
   "execution_count": 9,
   "id": "2aeb7e31-60b1-48e0-8c9a-a2f43ac47c84",
   "metadata": {},
   "outputs": [
    {
     "data": {
      "text/plain": [
       "ChatCompletion(id='chatcmpl-BfoeBpdkWw5wnEIzpd72QCtVS4yYX', choices=[Choice(finish_reason='stop', index=0, logprobs=None, message=ChatCompletionMessage(content='OpenAI offers both free and paid options for accessing its models and tools. For instance:\\n\\n1. **ChatGPT**:\\n   - There is a free tier available. Anyone can sign up and use it, though there might be limitations on usage and access compared to the paid version.\\n   - OpenAI also offers a subscription plan called \"ChatGPT Plus\" for a monthly fee. This provides benefits such as faster response times, priority access during peak times, and access to newer models.\\n\\n2. **API Access**:\\n   - OpenAI\\'s API has a pricing model based on usage. Developers and businesses can sign up and use the API, but beyond initial credits, usage incurs costs based on the amount of processing and data involved.\\n\\n3. **Research and Education**:\\n   - Occasionally, OpenAI offers grants or credits for research and educational purposes, allowing certain users to access their tools without cost.\\n\\nAlways check OpenAI\\'s official website or announcements for the most current details on pricing and available plans.', refusal=None, role='assistant', annotations=[], audio=None, function_call=None, tool_calls=None))], created=1749305835, model='gpt-4o-2024-08-06', object='chat.completion', service_tier='default', system_fingerprint='fp_f5bdcc3276', usage=CompletionUsage(completion_tokens=202, prompt_tokens=14, total_tokens=216, completion_tokens_details=CompletionTokensDetails(accepted_prediction_tokens=0, audio_tokens=0, reasoning_tokens=0, rejected_prediction_tokens=0), prompt_tokens_details=PromptTokensDetails(audio_tokens=0, cached_tokens=0)))"
      ]
     },
     "execution_count": 9,
     "metadata": {},
     "output_type": "execute_result"
    }
   ],
   "source": [
    "client.chat.completions.create(\n",
    "    model='gpt-4o',\n",
    "    messages=[{'role': 'user', 'content': 'Is OpenAI free to use?'}]\n",
    ")"
   ]
  },
  {
   "cell_type": "code",
   "execution_count": null,
   "id": "3f984bc0-feb9-4961-9b76-6e1bfd6c8891",
   "metadata": {},
   "outputs": [],
   "source": []
  }
 ],
 "metadata": {
  "kernelspec": {
   "display_name": "Python 3 (ipykernel)",
   "language": "python",
   "name": "python3"
  },
  "language_info": {
   "codemirror_mode": {
    "name": "ipython",
    "version": 3
   },
   "file_extension": ".py",
   "mimetype": "text/x-python",
   "name": "python",
   "nbconvert_exporter": "python",
   "pygments_lexer": "ipython3",
   "version": "3.12.1"
  }
 },
 "nbformat": 4,
 "nbformat_minor": 5
}
